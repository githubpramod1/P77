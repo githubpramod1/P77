{
 "cells": [
  {
   "cell_type": "code",
   "execution_count": null,
   "metadata": {},
   "outputs": [],
   "source": [
    "<html>\n",
    "    <head>\n",
    "        <title>P77</title>\n",
    "    </head>\n",
    "    <body>\n",
    "        <h1>Console web app</h1>\n",
    "    </body>\n",
    "    <script>\n",
    "        var first_name=\"Ranbir\";\n",
    "        var last_name=\"Kapoor\";\n",
    "        console.log (first_name);\n",
    "        console.log (last_name);\n",
    "        var full_name=first_name.concat(last_name);\n",
    "        var a= 10;\n",
    "        var b= 15;\n",
    "        console.log (a);\n",
    "        console.log (b);\n",
    "        var add = a+b ;\n",
    "        console.log(add);"
   ]
  }
 ],
 "metadata": {
  "language_info": {
   "name": "python"
  },
  "orig_nbformat": 4
 },
 "nbformat": 4,
 "nbformat_minor": 2
}
